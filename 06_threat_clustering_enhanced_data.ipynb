{
 "cells": [
  {
   "cell_type": "markdown",
   "id": "33b33c82",
   "metadata": {},
   "source": [
    "# Threat Clustering with Enhanced Dataset\n",
    "This notebook performs unsupervised clustering of synthetic threat data based on signal strength, proximity, and geographic features."
   ]
  },
  {
   "cell_type": "code",
   "execution_count": null,
   "id": "2b9b1210",
   "metadata": {},
   "outputs": [],
   "source": [
    "import pandas as pd\n",
    "import matplotlib.pyplot as plt\n",
    "import seaborn as sns\n",
    "from sklearn.preprocessing import StandardScaler\n",
    "from sklearn.cluster import KMeans\n",
    "from sklearn.decomposition import PCA\n",
    "\n",
    "# Load enhanced dataset\n",
    "df = pd.read_csv('../data/enhanced_threat_data.csv')\n",
    "\n",
    "# Select features for clustering\n",
    "features = df[['proximity_score', 'intel_signal_strength', 'latitude', 'longitude']]\n",
    "scaler = StandardScaler()\n",
    "scaled_features = scaler.fit_transform(features)"
   ]
  },
  {
   "cell_type": "markdown",
   "id": "3e59b3bc",
   "metadata": {},
   "source": [
    "## Determine Optimal Number of Clusters (Elbow Method)"
   ]
  },
  {
   "cell_type": "code",
   "execution_count": null,
   "id": "eb106334",
   "metadata": {},
   "outputs": [],
   "source": [
    "inertia = []\n",
    "K_range = range(1, 10)\n",
    "for k in K_range:\n",
    "    kmeans = KMeans(n_clusters=k, random_state=42)\n",
    "    kmeans.fit(scaled_features)\n",
    "    inertia.append(kmeans.inertia_)\n",
    "\n",
    "plt.figure(figsize=(8, 4))\n",
    "plt.plot(K_range, inertia, marker='o')\n",
    "plt.title('Elbow Method for Optimal K')\n",
    "plt.xlabel('Number of Clusters')\n",
    "plt.ylabel('Inertia')\n",
    "plt.tight_layout()\n",
    "plt.show()"
   ]
  },
  {
   "cell_type": "markdown",
   "id": "75171f18",
   "metadata": {},
   "source": [
    "## Apply KMeans Clustering"
   ]
  },
  {
   "cell_type": "code",
   "execution_count": null,
   "id": "cd049945",
   "metadata": {},
   "outputs": [],
   "source": [
    "# We'll assume k=4 for demonstration\n",
    "kmeans = KMeans(n_clusters=4, random_state=42)\n",
    "df['cluster'] = kmeans.fit_predict(scaled_features)\n",
    "df['cluster'] = df['cluster'].astype(str)"
   ]
  },
  {
   "cell_type": "markdown",
   "id": "a5033982",
   "metadata": {},
   "source": [
    "## Visualize Clusters on Geographic Map"
   ]
  },
  {
   "cell_type": "code",
   "execution_count": null,
   "id": "f8d1f56a",
   "metadata": {},
   "outputs": [],
   "source": [
    "plt.figure(figsize=(8,6))\n",
    "sns.scatterplot(data=df, x='longitude', y='latitude', hue='cluster', style='threat_type')\n",
    "plt.title('Threat Clusters by Geolocation')\n",
    "plt.xlabel('Longitude')\n",
    "plt.ylabel('Latitude')\n",
    "plt.tight_layout()\n",
    "plt.show()"
   ]
  },
  {
   "cell_type": "markdown",
   "id": "11584eab",
   "metadata": {},
   "source": [
    "## PCA Plot of Clusters in Reduced Dimensions"
   ]
  },
  {
   "cell_type": "code",
   "execution_count": null,
   "id": "b336fb29",
   "metadata": {},
   "outputs": [],
   "source": [
    "pca = PCA(n_components=2)\n",
    "pca_result = pca.fit_transform(scaled_features)\n",
    "df['PC1'] = pca_result[:,0]\n",
    "df['PC2'] = pca_result[:,1]\n",
    "\n",
    "plt.figure(figsize=(8,6))\n",
    "sns.scatterplot(data=df, x='PC1', y='PC2', hue='cluster', style='threat_type')\n",
    "plt.title('PCA Projection of Threat Clusters')\n",
    "plt.tight_layout()\n",
    "plt.show()"
   ]
  }
 ],
 "metadata": {},
 "nbformat": 4,
 "nbformat_minor": 5
}

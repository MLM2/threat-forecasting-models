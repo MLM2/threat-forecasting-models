{
 "cells": [
  {
   "cell_type": "markdown",
   "id": "89fbaf5f",
   "metadata": {},
   "source": [
    "# Enhanced Threat Data Exploration\n",
    "This notebook explores the enriched synthetic dataset including threat types, severity, proximity scores, and geolocation."
   ]
  },
  {
   "cell_type": "code",
   "execution_count": null,
   "id": "3d3c12c1",
   "metadata": {},
   "outputs": [],
   "source": [
    "import pandas as pd\n",
    "import matplotlib.pyplot as plt\n",
    "import seaborn as sns\n",
    "\n",
    "# Load enhanced dataset\n",
    "df = pd.read_csv('../data/enhanced_threat_data.csv')\n",
    "df['week'] = pd.to_datetime(df['week'])\n",
    "df.head()"
   ]
  },
  {
   "cell_type": "markdown",
   "id": "0925d41b",
   "metadata": {},
   "source": [
    "## Threat Type and Severity Distributions"
   ]
  },
  {
   "cell_type": "code",
   "execution_count": null,
   "id": "4672dd35",
   "metadata": {},
   "outputs": [],
   "source": [
    "plt.figure(figsize=(10,4))\n",
    "sns.countplot(data=df, x='threat_type', hue='incident_severity')\n",
    "plt.title('Threat Types by Incident Severity')\n",
    "plt.ylabel('Count')\n",
    "plt.tight_layout()\n",
    "plt.show()"
   ]
  },
  {
   "cell_type": "markdown",
   "id": "8b589256",
   "metadata": {},
   "source": [
    "## Proximity Score and Intel Strength"
   ]
  },
  {
   "cell_type": "code",
   "execution_count": null,
   "id": "82dc3f23",
   "metadata": {},
   "outputs": [],
   "source": [
    "plt.figure(figsize=(10,4))\n",
    "sns.histplot(df['proximity_score'], kde=True, bins=20)\n",
    "plt.title('Proximity Score Distribution')\n",
    "plt.tight_layout()\n",
    "plt.show()\n",
    "\n",
    "plt.figure(figsize=(10,4))\n",
    "sns.histplot(df['intel_signal_strength'], bins=11, kde=False)\n",
    "plt.title('Intel Signal Strength Distribution')\n",
    "plt.tight_layout()\n",
    "plt.show()"
   ]
  },
  {
   "cell_type": "markdown",
   "id": "42aab393",
   "metadata": {},
   "source": [
    "## Geospatial Plot of Threats"
   ]
  },
  {
   "cell_type": "code",
   "execution_count": null,
   "id": "e547b6de",
   "metadata": {},
   "outputs": [],
   "source": [
    "plt.figure(figsize=(8,6))\n",
    "sns.scatterplot(data=df, x='longitude', y='latitude', hue='threat_type', style='incident_severity')\n",
    "plt.title('Geolocation of Threat Incidents')\n",
    "plt.xlabel('Longitude')\n",
    "plt.ylabel('Latitude')\n",
    "plt.tight_layout()\n",
    "plt.show()"
   ]
  }
 ],
 "metadata": {},
 "nbformat": 4,
 "nbformat_minor": 5
}
